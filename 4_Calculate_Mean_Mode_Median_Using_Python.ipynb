{
  "nbformat": 4,
  "nbformat_minor": 0,
  "metadata": {
    "colab": {
      "provenance": [],
      "authorship_tag": "ABX9TyOh9gH45SSX6GvPQNKh8/rU",
      "include_colab_link": true
    },
    "kernelspec": {
      "name": "python3",
      "display_name": "Python 3"
    },
    "language_info": {
      "name": "python"
    }
  },
  "cells": [
    {
      "cell_type": "markdown",
      "metadata": {
        "id": "view-in-github",
        "colab_type": "text"
      },
      "source": [
        "<a href=\"https://colab.research.google.com/github/vaishuavi1992/Machine-Learning/blob/main/4_Calculate_Mean_Mode_Median_Using_Python.ipynb\" target=\"_parent\"><img src=\"https://colab.research.google.com/assets/colab-badge.svg\" alt=\"Open In Colab\"/></a>"
      ]
    },
    {
      "cell_type": "markdown",
      "source": [],
      "metadata": {
        "id": "QHbFBYYZqORu"
      }
    },
    {
      "cell_type": "markdown",
      "source": [],
      "metadata": {
        "id": "enZkBHysb5nm"
      }
    },
    {
      "cell_type": "code",
      "source": [
        "from collections import Counter\n",
        "lst = []\n",
        "n = int(input(\"Enter number of elements : \"))\n",
        "for i in range(0, n):\n",
        "    ele = int(input())\n",
        "\n",
        "    lst.append(ele)\n",
        "\n",
        "get_sum = sum(lst)\n",
        "mean = get_sum / n\n",
        "\n",
        "print(\"Mean = \" + str(mean))\n",
        "lst.sort()\n",
        "\n",
        "if n % 2 == 0:\n",
        "    median1 = lst[n//2]\n",
        "    median2 = lst[n//2 - 1]\n",
        "    median = (median1 + median2)/2\n",
        "else:\n",
        "    median = lst[n//2]\n",
        "print(\"Median = \" + str(median))\n",
        "\n",
        "data = Counter(lst)\n",
        "get_mode = dict(data)\n",
        "mode = [k for k, v in get_mode.items() if v == max(list(data.values()))]\n",
        "\n",
        "if len(mode) == n:\n",
        "    get_mode = \"No mode found\"\n",
        "else:\n",
        "    get_mode = \"mode =\" + ', '.join(map(str, mode))\n",
        "\n",
        "print(get_mode)\n"
      ],
      "metadata": {
        "colab": {
          "base_uri": "https://localhost:8080/"
        },
        "id": "_YMtQUJ_b6G_",
        "outputId": "9ba2a6f1-711a-4d36-eebe-2bf5fec3976b"
      },
      "execution_count": null,
      "outputs": [
        {
          "output_type": "stream",
          "name": "stdout",
          "text": [
            "Enter number of elements : 6\n",
            "1\n",
            "2\n",
            "3\n",
            "5\n",
            "5\n",
            "6\n",
            "Mean = 3.6666666666666665\n",
            "Median = 4.0\n",
            "mode =5\n"
          ]
        }
      ]
    }
  ]
}
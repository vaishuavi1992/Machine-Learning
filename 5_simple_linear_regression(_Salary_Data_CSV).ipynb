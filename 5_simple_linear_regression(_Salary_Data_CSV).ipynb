{
  "nbformat": 4,
  "nbformat_minor": 0,
  "metadata": {
    "colab": {
      "private_outputs": true,
      "provenance": [],
      "include_colab_link": true
    },
    "kernelspec": {
      "name": "python3",
      "display_name": "Python 3"
    },
    "language_info": {
      "name": "python"
    },
    "accelerator": "GPU",
    "gpuClass": "standard"
  },
  "cells": [
    {
      "cell_type": "markdown",
      "metadata": {
        "id": "view-in-github",
        "colab_type": "text"
      },
      "source": [
        "<a href=\"https://colab.research.google.com/github/vaishuavi1992/Machine-Learning/blob/main/5_simple_linear_regression(_Salary_Data_CSV).ipynb\" target=\"_parent\"><img src=\"https://colab.research.google.com/assets/colab-badge.svg\" alt=\"Open In Colab\"/></a>"
      ]
    },
    {
      "cell_type": "code",
      "execution_count": null,
      "metadata": {
        "id": "K8zrAsefd71O"
      },
      "outputs": [],
      "source": [
        "\n",
        "#https://github.com/content-anu/dataset-simple-linear\n",
        "import numpy as np\n",
        "import pandas as pd\n",
        "import matplotlib.pyplot as plt\n",
        "#1. Importing data set\n",
        "dataset = pd.read_csv('Salary_Data.csv')\n",
        "dataset.head()"
      ]
    },
    {
      "cell_type": "code",
      "source": [
        "\n",
        "#2. Data preprocessing\n",
        "X = dataset.iloc[:,:-1].values  #independent variable array\n",
        "y = dataset.iloc[:,1].values  #dependent variable vector"
      ],
      "metadata": {
        "id": "8UBk4G-vmJ8_"
      },
      "execution_count": null,
      "outputs": []
    },
    {
      "cell_type": "code",
      "source": [
        "#3.Splitting the dataset\n",
        "from sklearn.model_selection import train_test_split\n",
        "X_train, X_test, y_train, y_test = train_test_split(X,y,test_size=5,random_state=0)"
      ],
      "metadata": {
        "id": "DdhSNzTdmM1H"
      },
      "execution_count": null,
      "outputs": []
    },
    {
      "cell_type": "code",
      "source": [
        "#4. Fitting linear regression model into the training set\n",
        "from sklearn.linear_model import LinearRegression\n",
        "regressor = LinearRegression()\n",
        "regressor.fit(X_train,y_train)"
      ],
      "metadata": {
        "id": "2QbmIiqYmPkL"
      },
      "execution_count": null,
      "outputs": []
    },
    {
      "cell_type": "code",
      "source": [
        "# predicting the test set results\n",
        "y_pred = regressor.predict(X_train)\n",
        "y_pred\n",
        "\n",
        "y_train"
      ],
      "metadata": {
        "id": "J1GCG0-ZmTIX"
      },
      "execution_count": null,
      "outputs": []
    },
    {
      "cell_type": "code",
      "source": [
        "y_test"
      ],
      "metadata": {
        "id": "5LFjG4KSmWGd"
      },
      "execution_count": null,
      "outputs": []
    },
    {
      "cell_type": "code",
      "source": [
        "#plot for the TRAIN\n",
        "\n",
        "plt.scatter(X_train, y_train, color='black') # plotting the observation line\n",
        "\n",
        "plt.plot(X_train, regressor.predict(X_train), color='red') # plotting the regression line\n",
        "\n",
        "plt.title(\"Salary  \") # stating the title of the graph\n",
        "plt.xlabel(\"Year \") # adding the name of x-axis\n",
        "plt.ylabel(\"Salary\") # adding the name of y-axis\n",
        "plt.show() # specifies end of graph\n"
      ],
      "metadata": {
        "id": "1Bs9IlVTlkZk"
      },
      "execution_count": null,
      "outputs": []
    },
    {
      "cell_type": "code",
      "source": [
        "#plot for the TEST\n",
        "\n",
        "plt.scatter(X_test, y_test, color='red')\n",
        "plt.plot(X_train, regressor.predict(X_train), color='blue') # plotting the regression line\n",
        "plt.title(\"Salary vs Experience (Testing set)\")\n",
        "plt.xlabel(\"Years \")\n",
        "plt.ylabel(\"Salaries\")\n",
        "plt.show()"
      ],
      "metadata": {
        "id": "IBTF5pvClvDd"
      },
      "execution_count": null,
      "outputs": []
    },
    {
      "cell_type": "code",
      "source": [
        "\n",
        "\n",
        "# importing the dataset\n",
        "import numpy as np\n",
        "import pandas as pd\n",
        "import matplotlib.pyplot as plt\n",
        "\n",
        "dataset = pd.read_csv('Salary_Data.csv')\n",
        "dataset.head()\n",
        "\n",
        "# data preprocessing\n",
        "X = dataset.iloc[:, :-1].values  #independent variable array\n",
        "y = dataset.iloc[:,1].values  #dependent variable vector\n",
        "\n",
        "# splitting the dataset\n",
        "from sklearn.model_selection import train_test_split\n",
        "X_train, X_test, y_train, y_test = train_test_split(X,y,test_size=0.75,random_state=1)\n",
        "\n",
        "# fitting the regression model\n",
        "from sklearn.linear_model import LinearRegression\n",
        "regressor = LinearRegression()\n",
        "regressor.fit(X_train,y_train) #actually produces the linear eqn for the data\n",
        "\n",
        "# predicting the test set results\n",
        "y_pred = regressor.predict(X_test)\n",
        "y_pred\n",
        "\n",
        "y_test\n",
        "\n",
        "# visualizing the results\n",
        "#plot for the TRAIN\n",
        "\n",
        "plt.scatter(X_train, y_train, color='blue') # plotting the observation line\n",
        "plt.plot(X_train, regressor.predict(X_train), color='red') # plotting the regression line\n",
        "plt.title(\"Salary vs Experience (Training set)\") # stating the title of the graph\n",
        "\n",
        "plt.xlabel(\"Years of experience\") # adding the name of x-axis\n",
        "plt.ylabel(\"Salaries\") # adding the name of y-axis\n",
        "plt.show() # specifies end of graph\n",
        "\n",
        "#plot for the TEST\n",
        "\n",
        "plt.scatter(X_test, y_test, color='red')\n",
        "plt.plot(X_train, regressor.predict(X_train), color='blue') # plotting the regression line\n",
        "plt.title(\"Salary vs Experience (Testing set)\")\n",
        "\n",
        "plt.xlabel(\"Years of experience\")\n",
        "plt.ylabel(\"Salaries\")\n",
        "plt.show()"
      ],
      "metadata": {
        "id": "MNjnHJFil0Wl"
      },
      "execution_count": null,
      "outputs": []
    }
  ]
}
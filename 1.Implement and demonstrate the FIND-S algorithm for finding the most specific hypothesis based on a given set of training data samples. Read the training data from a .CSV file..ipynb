{
  "nbformat": 4,
  "nbformat_minor": 0,
  "metadata": {
    "colab": {
      "provenance": [],
      "toc_visible": true,
      "authorship_tag": "ABX9TyOqONR0iXRZkACFnUC6zEn+",
      "include_colab_link": true
    },
    "kernelspec": {
      "name": "python3",
      "display_name": "Python 3"
    },
    "language_info": {
      "name": "python"
    }
  },
  "cells": [
    {
      "cell_type": "markdown",
      "metadata": {
        "id": "view-in-github",
        "colab_type": "text"
      },
      "source": [
        "<a href=\"https://colab.research.google.com/github/vaishuavi1992/Machine-Learning/blob/main/Firstipynb.ipynb\" target=\"_parent\"><img src=\"https://colab.research.google.com/assets/colab-badge.svg\" alt=\"Open In Colab\"/></a>"
      ]
    },
    {
      "cell_type": "markdown",
      "source": [
        "# New section"
      ],
      "metadata": {
        "id": "atAtdMarx7Pb"
      }
    },
    {
      "cell_type": "code",
      "source": [
        "import csv\n",
        "hypo = ['%','%','%','%','%','%'];\n",
        "\n",
        "with open('trainingdata.csv') as csv_file:\n",
        "    readcsv = csv.reader(csv_file, delimiter=',')\n",
        "    print(readcsv)\n",
        "\n",
        "    data = []\n",
        "    print(\"\\nThe given training examples are:\")\n",
        "    for row in readcsv:\n",
        "        print(row)\n",
        "        if row[len(row)-1].upper() == \"YES\":\n",
        "            data.append(row)"
      ],
      "metadata": {
        "colab": {
          "base_uri": "https://localhost:8080/"
        },
        "id": "BTQXrD7tyOUk",
        "outputId": "f3364b5e-e48c-45fb-b936-207ffd7ab9e1"
      },
      "execution_count": 2,
      "outputs": [
        {
          "output_type": "stream",
          "name": "stdout",
          "text": [
            "<_csv.reader object at 0x7a20583c0120>\n",
            "\n",
            "The given training examples are:\n",
            "['sky', 'airTemp', 'humidity', 'wind', 'water', 'forecast', 'enjoySport']\n",
            "['Sunny', 'Warm', 'Normal', 'Strong', 'Warm', 'Same', 'Yes']\n",
            "['Sunny', 'Warm', 'High', 'Strong', 'Warm', 'Same', 'Yes']\n",
            "['Rainy', 'Cold', 'High', 'Strong', 'Warm', 'Change', 'No']\n",
            "['Sunny', 'Warm', 'High', 'Strong', 'Cool', 'Change', 'Yes']\n"
          ]
        }
      ]
    },
    {
      "cell_type": "code",
      "source": [
        "print(\"\\nThe positive examples are:\");\n",
        "for x in data:\n",
        "    print(x);\n",
        "print(\"\\n\");"
      ],
      "metadata": {
        "colab": {
          "base_uri": "https://localhost:8080/"
        },
        "id": "E3qsUgUVyZWC",
        "outputId": "b5de8049-31eb-4155-d934-59e55d3ef293"
      },
      "execution_count": 3,
      "outputs": [
        {
          "output_type": "stream",
          "name": "stdout",
          "text": [
            "\n",
            "The positive examples are:\n",
            "['Sunny', 'Warm', 'Normal', 'Strong', 'Warm', 'Same', 'Yes']\n",
            "['Sunny', 'Warm', 'High', 'Strong', 'Warm', 'Same', 'Yes']\n",
            "['Sunny', 'Warm', 'High', 'Strong', 'Cool', 'Change', 'Yes']\n",
            "\n",
            "\n"
          ]
        }
      ]
    },
    {
      "cell_type": "code",
      "source": [
        "TotalExamples = len(data);\n",
        "i=0;\n",
        "j=0;\n",
        "k=0;\n",
        "print(\"The steps of the Find-s algorithm are :\\n\",hypo);\n",
        "list = [];\n",
        "p=0;\n",
        "d=len(data[p])-1;\n",
        "for j in range(d):\n",
        "    list.append(data[i][j]);\n",
        "hypo=list;\n",
        "i=1;\n",
        "for i in range(TotalExamples):\n",
        "    for k in range(d):\n",
        "        if hypo[k]!=data[i][k]:\n",
        "            hypo[k]='?';\n",
        "            k=k+1;\n",
        "        else:\n",
        "            hypo[k];\n",
        "    print(hypo);\n",
        "i=i+1;"
      ],
      "metadata": {
        "colab": {
          "base_uri": "https://localhost:8080/"
        },
        "id": "BA8fDPXdyb4c",
        "outputId": "83dd3cab-f20f-4fa3-a559-92446d194606"
      },
      "execution_count": 4,
      "outputs": [
        {
          "output_type": "stream",
          "name": "stdout",
          "text": [
            "The steps of the Find-s algorithm are :\n",
            " ['%', '%', '%', '%', '%', '%']\n",
            "['Sunny', 'Warm', 'Normal', 'Strong', 'Warm', 'Same']\n",
            "['Sunny', 'Warm', '?', 'Strong', 'Warm', 'Same']\n",
            "['Sunny', 'Warm', '?', 'Strong', '?', '?']\n"
          ]
        }
      ]
    },
    {
      "cell_type": "code",
      "source": [
        "print(\"\\nThe maximally specific Find-s hypothesis for the given training examples is :\");\n",
        "list=[];\n",
        "for i in range(d):\n",
        "    list.append(hypo[i]);\n",
        "print(list);"
      ],
      "metadata": {
        "colab": {
          "base_uri": "https://localhost:8080/"
        },
        "id": "kkNjYrF2yjjL",
        "outputId": "05207497-2ac2-4da9-e770-8c9dfe8c47c3"
      },
      "execution_count": 5,
      "outputs": [
        {
          "output_type": "stream",
          "name": "stdout",
          "text": [
            "\n",
            "The maximally specific Find-s hypothesis for the given training examples is :\n",
            "['Sunny', 'Warm', '?', 'Strong', '?', '?']\n"
          ]
        }
      ]
    },
    {
      "cell_type": "code",
      "source": [
        "import csv\n",
        "hypo = ['%','%','%','%','%','%'];\n",
        "\n",
        "with open('trainingdata.csv') as csv_file:\n",
        "    readcsv = csv.reader(csv_file, delimiter=',')\n",
        "    print(readcsv)\n",
        "\n",
        "    data = []\n",
        "    print(\"\\nThe given training examples are:\")\n",
        "    for row in readcsv:\n",
        "        print(row)\n",
        "        if row[len(row)-1].upper() == \"YES\":\n",
        "            data.append(row)\n",
        "\n",
        "print(\"\\nThe positive examples are:\");\n",
        "for x in data:\n",
        "    print(x);\n",
        "print(\"\\n\");\n",
        "\n",
        "TotalExamples = len(data);\n",
        "i=0;\n",
        "j=0;\n",
        "k=0;\n",
        "print(\"The steps of the Find-s algorithm are :\\n\",hypo);\n",
        "list = [];\n",
        "p=0;\n",
        "d=len(data[p])-1;\n",
        "for j in range(d):\n",
        "    list.append(data[i][j]);\n",
        "hypo=list;\n",
        "i=1;\n",
        "for i in range(TotalExamples):\n",
        "    for k in range(d):\n",
        "        if hypo[k]!=data[i][k]:\n",
        "            hypo[k]='?';\n",
        "            k=k+1;\n",
        "        else:\n",
        "            hypo[k];\n",
        "    print(hypo);\n",
        "i=i+1;\n",
        "\n",
        "print(\"\\nThe maximally specific Find-s hypothesis for the given training examples is :\");\n",
        "list=[];\n",
        "for i in range(d):\n",
        "    list.append(hypo[i]);\n",
        "print(list);"
      ],
      "metadata": {
        "colab": {
          "base_uri": "https://localhost:8080/"
        },
        "id": "rKQZsJksywPr",
        "outputId": "eae9acbe-022e-4afd-8ff3-c6db935b1748"
      },
      "execution_count": 6,
      "outputs": [
        {
          "output_type": "stream",
          "name": "stdout",
          "text": [
            "<_csv.reader object at 0x7a20583c0900>\n",
            "\n",
            "The given training examples are:\n",
            "['sky', 'airTemp', 'humidity', 'wind', 'water', 'forecast', 'enjoySport']\n",
            "['Sunny', 'Warm', 'Normal', 'Strong', 'Warm', 'Same', 'Yes']\n",
            "['Sunny', 'Warm', 'High', 'Strong', 'Warm', 'Same', 'Yes']\n",
            "['Rainy', 'Cold', 'High', 'Strong', 'Warm', 'Change', 'No']\n",
            "['Sunny', 'Warm', 'High', 'Strong', 'Cool', 'Change', 'Yes']\n",
            "\n",
            "The positive examples are:\n",
            "['Sunny', 'Warm', 'Normal', 'Strong', 'Warm', 'Same', 'Yes']\n",
            "['Sunny', 'Warm', 'High', 'Strong', 'Warm', 'Same', 'Yes']\n",
            "['Sunny', 'Warm', 'High', 'Strong', 'Cool', 'Change', 'Yes']\n",
            "\n",
            "\n",
            "The steps of the Find-s algorithm are :\n",
            " ['%', '%', '%', '%', '%', '%']\n",
            "['Sunny', 'Warm', 'Normal', 'Strong', 'Warm', 'Same']\n",
            "['Sunny', 'Warm', '?', 'Strong', 'Warm', 'Same']\n",
            "['Sunny', 'Warm', '?', 'Strong', '?', '?']\n",
            "\n",
            "The maximally specific Find-s hypothesis for the given training examples is :\n",
            "['Sunny', 'Warm', '?', 'Strong', '?', '?']\n"
          ]
        }
      ]
    }
  ]
}
